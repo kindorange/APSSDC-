{
 "cells": [
  {
   "cell_type": "markdown",
   "id": "938a201b",
   "metadata": {},
   "source": [
    "# Question1: Write a program to check whether the user is eligible to vote or not"
   ]
  },
  {
   "cell_type": "code",
   "execution_count": null,
   "id": "5b64ebf7",
   "metadata": {},
   "outputs": [],
   "source": [
    "x=int(input(\"Enter your age: \"))\n",
    "if x>=18:\n",
    "    print(\"You are eligible to vote.\")\n",
    "else:\n",
    "    print(\"You are not eligible to vote.\")\n",
    "    "
   ]
  },
  {
   "cell_type": "markdown",
   "id": "170fee01",
   "metadata": {},
   "source": [
    "# Question2: Check whether the given number is positive or negative"
   ]
  },
  {
   "cell_type": "code",
   "execution_count": null,
   "id": "632804ef",
   "metadata": {},
   "outputs": [],
   "source": [
    "x=int(input(\"Enter a number: \"))\n",
    "if x>=0:\n",
    "    print(\"The number is positive.\")\n",
    "else:\n",
    "    print(\"The number is negative.\")\n",
    "    "
   ]
  },
  {
   "cell_type": "markdown",
   "id": "3180f0b0",
   "metadata": {},
   "source": [
    "# Question3: Check the given number is even or odd. If it is even check if it is divisible by 4 or not"
   ]
  },
  {
   "cell_type": "code",
   "execution_count": null,
   "id": "a9f48fdb",
   "metadata": {},
   "outputs": [],
   "source": [
    "x=int(input(\"Enter a number: \"))\n",
    "if x%2==0:\n",
    "    print(\"It is even\")\n",
    "    if x%4==0:\n",
    "        print(\"It is divisible by 4\")\n",
    "    else:\n",
    "        print(\"It is not divisible by 4\")\n",
    "else:\n",
    "    print(\"It is odd\")\n",
    "    "
   ]
  },
  {
   "cell_type": "markdown",
   "id": "c8cf7fe2",
   "metadata": {},
   "source": [
    "# Question4: Write a program to print student grade based on percentage like distinction, pass or fail."
   ]
  },
  {
   "cell_type": "code",
   "execution_count": null,
   "id": "79946057",
   "metadata": {},
   "outputs": [],
   "source": [
    "x=float(input(\"Enter your percentage: \"))\n",
    "if x>=85:\n",
    "    print(\"Distinction A grade\")\n",
    "elif x>=75:\n",
    "    print(\"Distinction B grade\")\n",
    "elif x>=50:\n",
    "    print(\"Pass\")\n",
    "else:\n",
    "    print(\"Fail\")"
   ]
  },
  {
   "cell_type": "markdown",
   "id": "d4547759",
   "metadata": {},
   "source": [
    "# Question5: Check whether the given year is leap or not"
   ]
  },
  {
   "cell_type": "code",
   "execution_count": 1,
   "id": "16c67099",
   "metadata": {},
   "outputs": [
    {
     "name": "stdout",
     "output_type": "stream",
     "text": [
      "Enter Year: 2024\n",
      "2024 is a leap year\n"
     ]
    }
   ],
   "source": [
    "x=int(input(\"Enter Year: \"))\n",
    "if (x%4==0 and x%100 != 0 or x%400==0):\n",
    "    print(x, \"is a leap year\")\n",
    "else:\n",
    "    print(x, \"is not a leap year\")"
   ]
  }
 ],
 "metadata": {
  "kernelspec": {
   "display_name": "Python 3",
   "language": "python",
   "name": "python3"
  },
  "language_info": {
   "codemirror_mode": {
    "name": "ipython",
    "version": 3
   },
   "file_extension": ".py",
   "mimetype": "text/x-python",
   "name": "python",
   "nbconvert_exporter": "python",
   "pygments_lexer": "ipython3",
   "version": "3.8.8"
  }
 },
 "nbformat": 4,
 "nbformat_minor": 5
}
